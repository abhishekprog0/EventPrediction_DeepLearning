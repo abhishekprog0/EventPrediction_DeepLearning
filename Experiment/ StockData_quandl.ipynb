{
 "cells": [
  {
   "cell_type": "markdown",
   "metadata": {},
   "source": [
    "Using QUANDL to get daily stock prices is very easy and this code demonstrates this. Use your columbia uni. \n",
    "https://www.quandl.com/"
   ]
  },
  {
   "cell_type": "code",
   "execution_count": 1,
   "metadata": {},
   "outputs": [
    {
     "ename": "ModuleNotFoundError",
     "evalue": "No module named 'quandl'",
     "output_type": "error",
     "traceback": [
      "\u001b[1;31m---------------------------------------------------------------------------\u001b[0m",
      "\u001b[1;31mModuleNotFoundError\u001b[0m                       Traceback (most recent call last)",
      "\u001b[1;32m<ipython-input-1-ab324839388e>\u001b[0m in \u001b[0;36m<module>\u001b[1;34m\u001b[0m\n\u001b[0;32m      1\u001b[0m \u001b[1;32mimport\u001b[0m \u001b[0mpandas\u001b[0m \u001b[1;32mas\u001b[0m \u001b[0mpd\u001b[0m\u001b[1;33m\u001b[0m\u001b[1;33m\u001b[0m\u001b[0m\n\u001b[1;32m----> 2\u001b[1;33m \u001b[1;32mimport\u001b[0m \u001b[0mquandl\u001b[0m\u001b[1;33m\u001b[0m\u001b[1;33m\u001b[0m\u001b[0m\n\u001b[0m\u001b[0;32m      3\u001b[0m \u001b[1;32mimport\u001b[0m \u001b[0mnumpy\u001b[0m \u001b[1;32mas\u001b[0m \u001b[0mnp\u001b[0m\u001b[1;33m\u001b[0m\u001b[1;33m\u001b[0m\u001b[0m\n\u001b[0;32m      4\u001b[0m \u001b[1;32mimport\u001b[0m \u001b[0mquandl\u001b[0m\u001b[1;33m\u001b[0m\u001b[1;33m\u001b[0m\u001b[0m\n\u001b[0;32m      5\u001b[0m \u001b[1;32mimport\u001b[0m \u001b[0mmatplotlib\u001b[0m\u001b[1;33m.\u001b[0m\u001b[0mpyplot\u001b[0m \u001b[1;32mas\u001b[0m \u001b[0mplt\u001b[0m\u001b[1;33m\u001b[0m\u001b[1;33m\u001b[0m\u001b[0m\n",
      "\u001b[1;31mModuleNotFoundError\u001b[0m: No module named 'quandl'"
     ]
    }
   ],
   "source": [
    "import pandas as pd\n",
    "import quandl\n",
    "import numpy as np\n",
    "import quandl\n",
    "import matplotlib.pyplot as plt\n",
    "\n",
    "sd='2017-01-01'\n",
    "ed='2017-12-12'\n",
    "dates=pd.date_range(sd,ed)\n",
    "\n",
    "#signup at quandl and you shall recieve this API Key instantaneously unlike factset \n",
    "quandl.ApiConfig.api_key = 'uWXzvj7-cp_14XS445sM'\n",
    "aapl_table = quandl.get('WIKI/386')\n",
    "goog_table = quandl.get('WIKI/GOOG')\n",
    "aapl = aapl_table.loc['2017',['Open','Close']]\n",
    "goog = goog_table.loc['2017',['Open','Close']]\n",
    "#take log return\n",
    "aapl['daily_return'] = (aapl['Close'] - aapl['Open'])/aapl['Open']\n",
    "goog['daily_return'] = (goog['Close'] - goog['Open'])/goog['Open']\n",
    "'''\n",
    "aapl['log_price'] = np.log(aapl.Close)\n",
    "aapl['log_return'] = aapl['log_price'].diff()\n",
    "'''\n",
    "#plt.plot(aapl['Date'], aapl['daily_return'])\n",
    "aapl['daily_return'].plot(title = 'AAPL', label = \"Daily Returns\" )\n",
    "goog['daily_return'].plot(title = 'AAPL', label = \"Daily Returns\" )\n",
    "#plt.scatter(aapl['daily_return'], goog['daily_return'])\n",
    "\n",
    "\n",
    "\n"
   ]
  },
  {
   "cell_type": "code",
   "execution_count": null,
   "metadata": {},
   "outputs": [],
   "source": [
    "df1=pd.DataFrame(index=dates)\n",
    "df1['aapl_dr'] = aapl['daily_return']\n",
    "df1['goog_dr'] = goog['daily_return']\n",
    "\n",
    "\n",
    "df1['aapl_dr'].hist(bins=120, label='aapl')\n",
    "df1['goog_dr'].hist(bins=120, label='goog')\n",
    "df1.plot(kind = 'scatter', x='aapl_dr', y='goog_dr', label='Scatter Plots')"
   ]
  },
  {
   "cell_type": "code",
   "execution_count": null,
   "metadata": {},
   "outputs": [],
   "source": []
  }
 ],
 "metadata": {
  "kernelspec": {
   "display_name": "Python 3",
   "language": "python",
   "name": "python3"
  },
  "language_info": {
   "codemirror_mode": {
    "name": "ipython",
    "version": 3
   },
   "file_extension": ".py",
   "mimetype": "text/x-python",
   "name": "python",
   "nbconvert_exporter": "python",
   "pygments_lexer": "ipython3",
   "version": "3.7.3"
  }
 },
 "nbformat": 4,
 "nbformat_minor": 2
}
